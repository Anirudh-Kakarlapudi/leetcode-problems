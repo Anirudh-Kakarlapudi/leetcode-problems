{
 "cells": [
  {
   "cell_type": "markdown",
   "metadata": {},
   "source": [
    "# Queen Attack Problem\n",
    "In the game of chess, the queen can attack an opponent if the piece is located in the same row, same column, or same diagonal. Write a program that takes the position of the queen and position of opponent piece on an empty chessboard and determine if the queen may attack the piece"
   ]
  },
  {
   "cell_type": "code",
   "execution_count": 11,
   "metadata": {},
   "outputs": [],
   "source": [
    "def can_queen_attack(queen_position, target_position):\n",
    "    if (queen_position[0] == target_position[0] or\n",
    "        queen_position[1] == target_position[1]):\n",
    "\n",
    "        # case 1: queen attacks all squares/boxes\n",
    "        # horizontally and vertically\n",
    "        return True\n",
    "    else:\n",
    "        # case 2: queen attacks all squares/boxes diagonal to its position\n",
    "        slope = (target_position[1] - queen_position[1])/(target_position[0] -\n",
    "                                                          queen_position[0])\n",
    "        if abs(slope) == 1:\n",
    "            return True\n",
    "        else:\n",
    "            return False"
   ]
  },
  {
   "cell_type": "code",
   "execution_count": 12,
   "metadata": {},
   "outputs": [
    {
     "data": {
      "text/plain": [
       "False"
      ]
     },
     "execution_count": 12,
     "metadata": {},
     "output_type": "execute_result"
    }
   ],
   "source": [
    "can_queen_attack([4,4], [5,6])"
   ]
  },
  {
   "cell_type": "code",
   "execution_count": 14,
   "metadata": {},
   "outputs": [
    {
     "data": {
      "text/plain": [
       "True"
      ]
     },
     "execution_count": 14,
     "metadata": {},
     "output_type": "execute_result"
    }
   ],
   "source": [
    "can_queen_attack([2,2], [7,7])"
   ]
  },
  {
   "cell_type": "code",
   "execution_count": null,
   "metadata": {},
   "outputs": [],
   "source": []
  }
 ],
 "metadata": {
  "kernelspec": {
   "display_name": "Python 3",
   "language": "python",
   "name": "python3"
  },
  "language_info": {
   "codemirror_mode": {
    "name": "ipython",
    "version": 3
   },
   "file_extension": ".py",
   "mimetype": "text/x-python",
   "name": "python",
   "nbconvert_exporter": "python",
   "pygments_lexer": "ipython3",
   "version": "3.7.7"
  }
 },
 "nbformat": 4,
 "nbformat_minor": 4
}
