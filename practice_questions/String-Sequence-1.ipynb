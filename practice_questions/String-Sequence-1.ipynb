{
 "cells": [
  {
   "cell_type": "markdown",
   "metadata": {},
   "source": [
    "# String Sequence Repetition 1"
   ]
  },
  {
   "cell_type": "markdown",
   "metadata": {},
   "source": [
    "Given a string consisting of substring $P_{i}$ i parenthesis followed by a number $N_{i}$ in curly brackets, the string is expanded such that the substring $P_{i}$ is repeatedly concatenated $N_{i}$ number of times\n",
    "\n",
    "For example:\n",
    "(ab(d){3}){2} ----> abdddabddd"
   ]
  },
  {
   "cell_type": "code",
   "execution_count": 1,
   "metadata": {},
   "outputs": [],
   "source": [
    "def find_str_sequence(st: str) -> str:\n",
    "    st_stack = []\n",
    "    num_stack = []\n",
    "    for i in range(len(st)):\n",
    "        if st[i] == '('or st[i] == ')':\n",
    "            st_stack.append(st[i])\n",
    "        elif st[i] == '{':\n",
    "            num_stack.append(st[i])\n",
    "        elif ord(st[i]) in range(ord('0'), ord('9')+1):\n",
    "            # checking if the character is a number\n",
    "            num_stack.append(st[i])\n",
    "        elif st[i] == '}':\n",
    "            pop_num = ''\n",
    "            num = ''\n",
    "            while pop_num != '{':\n",
    "                num = pop_num + num\n",
    "                pop_num = num_stack.pop()\n",
    "            num = int(num)\n",
    "            st_seq = ''\n",
    "            pop_st = ''\n",
    "            while pop_st != '(':\n",
    "                st_seq = pop_st+st_seq\n",
    "                pop_st = st_stack.pop()\n",
    "                if pop_st == ')':\n",
    "                    pop_st = ''\n",
    "            st_stack.append(st_seq*num)\n",
    "        else:\n",
    "            st_stack.append(st[i])\n",
    "    return (st_stack[0])"
   ]
  },
  {
   "cell_type": "code",
   "execution_count": 9,
   "metadata": {},
   "outputs": [],
   "source": [
    "eg  = '(p(q){2}rs(tu(v){2}){2}){4}'\n",
    "eg1 = '(ab(c){3}d){2}'\n",
    "eg2 = '(abcccd){2}'"
   ]
  },
  {
   "cell_type": "code",
   "execution_count": 10,
   "metadata": {},
   "outputs": [
    {
     "data": {
      "text/plain": [
       "'abcccdabcccd'"
      ]
     },
     "execution_count": 10,
     "metadata": {},
     "output_type": "execute_result"
    }
   ],
   "source": [
    "find_str_sequence(eg2)"
   ]
  },
  {
   "cell_type": "code",
   "execution_count": 11,
   "metadata": {},
   "outputs": [
    {
     "data": {
      "text/plain": [
       "'pqqrstuvvtuvvpqqrstuvvtuvvpqqrstuvvtuvvpqqrstuvvtuvv'"
      ]
     },
     "execution_count": 11,
     "metadata": {},
     "output_type": "execute_result"
    }
   ],
   "source": [
    "find_str_sequence(eg)"
   ]
  },
  {
   "cell_type": "code",
   "execution_count": null,
   "metadata": {},
   "outputs": [],
   "source": []
  }
 ],
 "metadata": {
  "kernelspec": {
   "display_name": "Python 3",
   "language": "python",
   "name": "python3"
  },
  "language_info": {
   "codemirror_mode": {
    "name": "ipython",
    "version": 3
   },
   "file_extension": ".py",
   "mimetype": "text/x-python",
   "name": "python",
   "nbconvert_exporter": "python",
   "pygments_lexer": "ipython3",
   "version": "3.7.7"
  }
 },
 "nbformat": 4,
 "nbformat_minor": 4
}
